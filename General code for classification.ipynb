{
 "cells": [
  {
   "cell_type": "raw",
   "id": "381551fd",
   "metadata": {},
   "source": [
    "# Importing libraries and dataset"
   ]
  },
  {
   "cell_type": "code",
   "execution_count": null,
   "id": "54ff64f7",
   "metadata": {},
   "outputs": [],
   "source": [
    "import pandas as pd\n",
    "import numpy as np\n",
    "import seaborn as sns\n",
    "import matplotlib.pyplot as plt\n",
    "import warnings\n",
    "warnings.filterwarnings('ignore')\n",
    "\n",
    "\n",
    "from sklearn.model_selection import train_test_split\n",
    "from sklearn.model_selection import cross_val_score, GridSearchCV, RandomizedSearchCV, KFold\n",
    "\n",
    "from sklearn.metrics import confusion_matrix, classification_report, accuracy_score, roc_curve, roc_auc_score, cohen_kappa_score, precision_score, recall_score, f1_score\n",
    "\n",
    "from sklearn.tree import DecisionTreeClassifier\n",
    "\n",
    "from sklearn.linear_model import LogisticRegression, SGDClassifier\n",
    "from sklearn import tree\n",
    "from xgboost.sklearn import XGBClassifier\n",
    "from sklearn.svm import SVC\n",
    "from sklearn.naive_bayes import GaussianNB\n",
    "from sklearn.multiclass import OneVsRestClassifier\n",
    "from sklearn.neighbors import KNeighborsClassifier\n",
    "from sklearn.ensemble import BaggingClassifier, AdaBoostClassifier, RandomForestClassifier, GradientBoostingClassifier\n"
   ]
  },
  {
   "cell_type": "code",
   "execution_count": null,
   "id": "f37dbe83",
   "metadata": {},
   "outputs": [],
   "source": [
    "#Read/Importing data\n",
    "df= pd.read_csv(r'FILENAME.csv')"
   ]
  },
  {
   "cell_type": "code",
   "execution_count": null,
   "id": "daf769b1",
   "metadata": {},
   "outputs": [],
   "source": [
    "#To Display all the rows and columns of table\n",
    "pd.set_option('display.max_columns',None)\n",
    "pd.set_option('display.max_rows',None) "
   ]
  },
  {
   "cell_type": "code",
   "execution_count": null,
   "id": "dd47ac8c",
   "metadata": {},
   "outputs": [],
   "source": [
    "#Keeping copy of file for future \n",
    "df1= df.copy()"
   ]
  },
  {
   "cell_type": "code",
   "execution_count": null,
   "id": "222dc509",
   "metadata": {},
   "outputs": [],
   "source": [
    "## Data Cleaning and Preprocessing"
   ]
  },
  {
   "cell_type": "code",
   "execution_count": null,
   "id": "6c49d72d",
   "metadata": {},
   "outputs": [],
   "source": [
    "#To display top 5 rows of the table\n",
    "df.head()"
   ]
  },
  {
   "cell_type": "code",
   "execution_count": null,
   "id": "e98b2afc",
   "metadata": {},
   "outputs": [],
   "source": [
    "#To display number of rows and columns\n",
    "df.shape"
   ]
  },
  {
   "cell_type": "code",
   "execution_count": null,
   "id": "e2f812f2",
   "metadata": {},
   "outputs": [],
   "source": [
    "#To display columns, data types, non-null values\n",
    "df.info()"
   ]
  },
  {
   "cell_type": "code",
   "execution_count": null,
   "id": "5ceb3218",
   "metadata": {},
   "outputs": [],
   "source": [
    "#To display data types of columns\n",
    "df.dtypes"
   ]
  },
  {
   "cell_type": "code",
   "execution_count": null,
   "id": "c893f797",
   "metadata": {},
   "outputs": [],
   "source": [
    "#To display list of columns\n",
    "df.columns"
   ]
  },
  {
   "cell_type": "code",
   "execution_count": null,
   "id": "8ec8db78",
   "metadata": {},
   "outputs": [],
   "source": [
    "#To display number of missing values and treat them\n",
    "df.isnull().sum()"
   ]
  },
  {
   "cell_type": "code",
   "execution_count": null,
   "id": "5ff07001",
   "metadata": {},
   "outputs": [],
   "source": [
    "#To check missing values in percentage\n",
    "(df.isnull().sum()*100/df.isnull().count()).sort_values(ascending = False)"
   ]
  },
  {
   "cell_type": "code",
   "execution_count": null,
   "id": "0d2eb1ee",
   "metadata": {},
   "outputs": [],
   "source": [
    "#To visualise null values\n",
    "sns.heatmap(df.isnull(), cbar=False)\n",
    "plt.show()"
   ]
  },
  {
   "cell_type": "code",
   "execution_count": null,
   "id": "4148f202",
   "metadata": {},
   "outputs": [],
   "source": [
    "#Droping rows with less missing values\n",
    "df.dropna(axis=0, inplace=True)"
   ]
  },
  {
   "cell_type": "code",
   "execution_count": null,
   "id": "ef056417",
   "metadata": {},
   "outputs": [],
   "source": [
    "#Dropping columns with many missing values\n",
    "df.drop(['Column1','Column2','Column3'], axis=1, inplace=True)"
   ]
  },
  {
   "cell_type": "code",
   "execution_count": null,
   "id": "7340c2e5",
   "metadata": {},
   "outputs": [],
   "source": [
    "#To replace with specific values in one column.\n",
    "df['column_name'].fillna(value, inplace=True)"
   ]
  },
  {
   "cell_type": "code",
   "execution_count": null,
   "id": "8610a156",
   "metadata": {},
   "outputs": [],
   "source": [
    "#To replace missing values in one column with mean, median or mode.\n",
    "data['column_name'].fillna(data['column_name'].mean(), inplace=True)"
   ]
  },
  {
   "cell_type": "code",
   "execution_count": null,
   "id": "5c123035",
   "metadata": {},
   "outputs": [],
   "source": [
    "#To display number of duplicate values\n",
    "df.duplicated().sum()"
   ]
  },
  {
   "cell_type": "code",
   "execution_count": null,
   "id": "a6df073a",
   "metadata": {},
   "outputs": [],
   "source": [
    "df.drop_duplicates(inplace=True)"
   ]
  },
  {
   "cell_type": "code",
   "execution_count": null,
   "id": "d42d22c2",
   "metadata": {},
   "outputs": [],
   "source": [
    "#To display columns that are numeric and categorical\n",
    "cat_cols = df.dtypes[df.dtypes=='object'].index\n",
    "num_cols = df.dtypes[df.dtypes!='object'].index\n",
    "print(cat_cols)\n",
    "print(num_cols)"
   ]
  },
  {
   "cell_type": "code",
   "execution_count": null,
   "id": "bbfcf3c2",
   "metadata": {},
   "outputs": [],
   "source": [
    "#To display values and its count for categorical columns\n",
    "for i in cat_cols:\n",
    "    print(f'Feature {i}')\n",
    "    print(f'Unique Values - {df[i].nunique()}')\n",
    "    print(f'Value Counts\\n{df[i].value_counts()}')\n",
    "    print('-'*40)"
   ]
  },
  {
   "cell_type": "code",
   "execution_count": null,
   "id": "9a8975dc",
   "metadata": {},
   "outputs": [],
   "source": [
    "#### Other basic functions"
   ]
  },
  {
   "cell_type": "code",
   "execution_count": null,
   "id": "7ab540d6",
   "metadata": {},
   "outputs": [],
   "source": [
    "# Change data type to int or float\n",
    "df['column_name'] = df['column_name'].astype(int/float)"
   ]
  },
  {
   "cell_type": "code",
   "execution_count": null,
   "id": "20078a1b",
   "metadata": {},
   "outputs": [],
   "source": [
    "# Text based data\n",
    "\n",
    "# remove spaces from start or end of the values.\n",
    "df['column_name'] = df['column_name'].str.strip()\n",
    "\n",
    "# Convert text to lowercase\n",
    "df['column_name'] = df['column_name'].str.lower()\n",
    "\n",
    "# Remove special characters from text\n",
    "df['column_name'] = df['column_name'].str.replace('[^\\w\\s]', '')\n",
    "\n",
    "# Tokenize text into words\n",
    "df['column_name'] = df['column_name'].str.split()"
   ]
  },
  {
   "cell_type": "code",
   "execution_count": null,
   "id": "e5dca7f8",
   "metadata": {},
   "outputs": [],
   "source": [
    "# Date time data\n",
    "\n",
    "# Convert string column to datetime format\n",
    "df['date_column'] = pd.to_datetime(df['date_column'])\n",
    "\n",
    "# Extract year from a datetime column\n",
    "df['year'] = df['date_column'].dt.year\n",
    "\n",
    "# Extract month from a datetime column\n",
    "df['month'] = df['date_column'].dt.month\n",
    "\n",
    "# Extract day from a datetime column\n",
    "df['day'] = df['date_column'].dt.day\n",
    "\n",
    "# Calculate time differences\n",
    "df['time_diff'] = df['end_time'] - df['start_time']"
   ]
  },
  {
   "cell_type": "code",
   "execution_count": null,
   "id": "defb90c8",
   "metadata": {},
   "outputs": [],
   "source": [
    "#To rename column name\n",
    "df.rename(columns={'Old_Column_Name':'New_Column_Name'},inplace=True) \n",
    "\n",
    "# To replace specific values in a column\n",
    "df['column_name'].replace({'old_value': 'new_value'}, inplace=True)"
   ]
  },
  {
   "cell_type": "code",
   "execution_count": null,
   "id": "fef62a26",
   "metadata": {},
   "outputs": [],
   "source": [
    "#To remove a column from dataframe\n",
    "df.drop('name',axis=1,inplace=True)"
   ]
  },
  {
   "cell_type": "code",
   "execution_count": null,
   "id": "31a48f4f",
   "metadata": {},
   "outputs": [],
   "source": [
    "## EDA - Exploratory Data Analysis"
   ]
  },
  {
   "cell_type": "code",
   "execution_count": null,
   "id": "af76c727",
   "metadata": {},
   "outputs": [],
   "source": [
    "#To display countplot of target variable\n",
    "sns.countplot(x=df['target'])\n",
    "plt.title('Countplot for Target')\n",
    "plt.show()"
   ]
  },
  {
   "cell_type": "code",
   "execution_count": null,
   "id": "84c0c3e1",
   "metadata": {},
   "outputs": [],
   "source": [
    "#To display basic statistical values for numeric columns\n",
    "df.describe()"
   ]
  },
  {
   "cell_type": "code",
   "execution_count": null,
   "id": "0014b25d",
   "metadata": {},
   "outputs": [],
   "source": [
    "# Univariate analysis\n",
    "# Distribution of numeric independent variables- dist plot, histogram, boxplot\n",
    "# Distribution of categorical independent variables-countplot, pie chart"
   ]
  },
  {
   "cell_type": "code",
   "execution_count": null,
   "id": "66a9be70",
   "metadata": {},
   "outputs": [],
   "source": [
    "#To display box plot for all numeric columns\n",
    "for i in num_cols:\n",
    "    sns.boxplot(y=df[i])\n",
    "    plt.title(f'Boxplot for {i}')\n",
    "    plt.show()"
   ]
  },
  {
   "cell_type": "code",
   "execution_count": null,
   "id": "96a0387a",
   "metadata": {},
   "outputs": [],
   "source": [
    "#To display histogram for all numeric columns\n",
    "for i in num_cols:\n",
    "    sns.histplot(x=df[i])\n",
    "    plt.title(f'Boxplot for {i}')\n",
    "    plt.show()"
   ]
  },
  {
   "cell_type": "code",
   "execution_count": null,
   "id": "da2dabe2",
   "metadata": {},
   "outputs": [],
   "source": [
    "##To display count plot for all categorical columns\n",
    "for i in cat_cols:\n",
    "    sns.countplot(x=df[i])\n",
    "    plt.title(f'Countplot for {i}')\n",
    "    plt.show()"
   ]
  },
  {
   "cell_type": "code",
   "execution_count": null,
   "id": "034481f3",
   "metadata": {},
   "outputs": [],
   "source": [
    "#To display pie chart for all categorical columns\n",
    "for i in cat_cols:\n",
    "    count = df[i].value_counts()\n",
    "    labels = count.index.tolist()\n",
    "    sizes = count.values.tolist()\n",
    "    plt.figure()\n",
    "    plt.pie(sizes, labels=labels, autopct='%1.1f%%')\n",
    "    plt.title(f'Pie chart for {i}')\n",
    "    plt.show()"
   ]
  },
  {
   "cell_type": "code",
   "execution_count": null,
   "id": "097e3439",
   "metadata": {},
   "outputs": [],
   "source": [
    "# Bi-Variate Analysis\n",
    "# num-num : Scatterplot, pairplot\n",
    "# num-cat : T-test, ANOVA, boxplot\n",
    "# cat-cat : Chi-Square test"
   ]
  },
  {
   "cell_type": "code",
   "execution_count": null,
   "id": "26956bcf",
   "metadata": {},
   "outputs": [],
   "source": [
    "#To display pair plot between two numeric columns\n",
    "sns.pairplot(df,vars=num_cols)  \n",
    "plt.show()"
   ]
  },
  {
   "cell_type": "code",
   "execution_count": null,
   "id": "63ffd3eb",
   "metadata": {},
   "outputs": [],
   "source": [
    "#To display box plot between numeric and categorical columns\n",
    "for i in cat_cols:\n",
    "    sns.boxplot(x=df[i],y=df['Dependent_column'])\n",
    "    plt.title(f'Boxplot of {i} VS Dependent_column')\n",
    "    plt.show()"
   ]
  },
  {
   "cell_type": "code",
   "execution_count": null,
   "id": "32ec2aea",
   "metadata": {},
   "outputs": [],
   "source": [
    "# Scatter plot of two numeric columns\n",
    "plt.scatter(df['numeric_column1'], df['numeric_column2'])\n",
    "plt.xlabel('Numeric Column 1')\n",
    "plt.ylabel('Numeric Column 2')\n",
    "plt.show()"
   ]
  },
  {
   "cell_type": "code",
   "execution_count": null,
   "id": "9afe1f6e",
   "metadata": {},
   "outputs": [],
   "source": [
    "# Box plot of a numeric column by a categorical column\n",
    "sns.boxplot(df['categorical_column'], df['numeric_column'])\n",
    "plt.xlabel('Categorical Column')\n",
    "plt.ylabel('Numeric Column')\n",
    "plt.show()"
   ]
  },
  {
   "cell_type": "code",
   "execution_count": null,
   "id": "f9bb2b64",
   "metadata": {},
   "outputs": [],
   "source": [
    "# Cross-tabulation between two categorical columns\n",
    "cross_tab = pd.crosstab(df['categorical_column1'], df['categorical_column2'])\n",
    "print(cross_tab)"
   ]
  },
  {
   "cell_type": "code",
   "execution_count": null,
   "id": "69358da8",
   "metadata": {},
   "outputs": [],
   "source": [
    "#Multi-variate Analysis"
   ]
  },
  {
   "cell_type": "code",
   "execution_count": null,
   "id": "8379a2f1",
   "metadata": {},
   "outputs": [],
   "source": [
    "#To display correlation between different columns\n",
    "corr = df.corr()\n",
    "plt.figure(figsize=(25,25))\n",
    "sns.heatmap(corr, annot=True, cmap='RdBu')\n",
    "plt.show()"
   ]
  },
  {
   "cell_type": "code",
   "execution_count": null,
   "id": "2516dd1f",
   "metadata": {},
   "outputs": [],
   "source": [
    "#To display columns that have high correlation\n",
    "plt.figure(figsize=(25,25))\n",
    "sns.heatmap(corr[abs(corr)>=0.7], annot=True, cmap='RdBu')\n",
    "plt.show()"
   ]
  },
  {
   "cell_type": "code",
   "execution_count": null,
   "id": "00e5b46c",
   "metadata": {},
   "outputs": [],
   "source": [
    "#  Inference"
   ]
  },
  {
   "cell_type": "code",
   "execution_count": null,
   "id": "702e5433",
   "metadata": {},
   "outputs": [],
   "source": [
    "# Outlier Treatment"
   ]
  },
  {
   "cell_type": "code",
   "execution_count": null,
   "id": "ffcde81c",
   "metadata": {},
   "outputs": [],
   "source": [
    "# Remove rows based on a condition\n",
    "df = df[df['column_name'] != 'value_to_remove']"
   ]
  },
  {
   "cell_type": "code",
   "execution_count": null,
   "id": "bfbba9a3",
   "metadata": {},
   "outputs": [],
   "source": [
    "# Remove outliers based on domain knowledge or business rules\n",
    "df = df[(df['column_name'] >= lower_threshold) & (df['column_name'] <= upper_threshold)]"
   ]
  },
  {
   "cell_type": "code",
   "execution_count": null,
   "id": "9c2611a7",
   "metadata": {},
   "outputs": [],
   "source": [
    "df.describe(percentiles=[0.01,0.03,0.05,0.10,0.90,0.95,0.97,0.99]).T"
   ]
  },
  {
   "cell_type": "code",
   "execution_count": null,
   "id": "0da20e17",
   "metadata": {},
   "outputs": [],
   "source": [
    "def out_treat(x):\n",
    "    x = x.clip(upper = x.quantile(0.97))\n",
    "    x = x.clip(lower = x.quantile(0.01))\n",
    "    return x"
   ]
  },
  {
   "cell_type": "code",
   "execution_count": null,
   "id": "e2c5973d",
   "metadata": {},
   "outputs": [],
   "source": [
    "num_cols = df.dtypes[df.dtypes!='object'].index\n",
    "df[num_cols] = df[num_cols].apply(out_treat)"
   ]
  },
  {
   "cell_type": "code",
   "execution_count": null,
   "id": "1a45fc5c",
   "metadata": {},
   "outputs": [],
   "source": [
    "# Removing columns with correlation more than 90%"
   ]
  },
  {
   "cell_type": "code",
   "execution_count": null,
   "id": "0044162b",
   "metadata": {},
   "outputs": [],
   "source": [
    "def high_corr_feat(corr,thresh):\n",
    "    res = []\n",
    "    for i in range(len(corr.columns)): # i = 0,1,2..,29\n",
    "        for j in range(i):             # i=0,j=0,  i=1,j=0\n",
    "            if corr.iloc[i,j] >= thresh:\n",
    "                res.append(corr.columns[i])\n",
    "    res = list(set(res))\n",
    "    return res\n",
    "    \n",
    "feat_to_drop = high_corr_feat(corr,0.9)\n",
    "print(feat_to_drop)"
   ]
  },
  {
   "cell_type": "code",
   "execution_count": null,
   "id": "1ce79988",
   "metadata": {},
   "outputs": [],
   "source": [
    "df.drop(feat_to_drop,inplace=True,axis=1)"
   ]
  },
  {
   "cell_type": "code",
   "execution_count": null,
   "id": "909b88a2",
   "metadata": {},
   "outputs": [],
   "source": [
    "### Encoding categorical Columns"
   ]
  },
  {
   "cell_type": "code",
   "execution_count": null,
   "id": "ba8df6be",
   "metadata": {},
   "outputs": [],
   "source": [
    "cat_cols"
   ]
  },
  {
   "cell_type": "code",
   "execution_count": null,
   "id": "70cbe4b0",
   "metadata": {},
   "outputs": [],
   "source": [
    "df = pd.get_dummies(df,columns=cat_cols,drop_first=True)\n",
    "print(df.shape)\n",
    "print(df.dtypes)"
   ]
  },
  {
   "cell_type": "code",
   "execution_count": null,
   "id": "6f692980",
   "metadata": {},
   "outputs": [],
   "source": [
    "#### Label Encoding"
   ]
  },
  {
   "cell_type": "code",
   "execution_count": null,
   "id": "42f02a86",
   "metadata": {},
   "outputs": [],
   "source": [
    "from sklearn.preprocessing import LabelEncoder\n",
    "lb = LabelEncoder()"
   ]
  },
  {
   "cell_type": "code",
   "execution_count": null,
   "id": "b14020f7",
   "metadata": {},
   "outputs": [],
   "source": [
    "cat_cols = df.dtypes[df.dtypes=='object'].index\n",
    "print(cat_cols)"
   ]
  },
  {
   "cell_type": "code",
   "execution_count": null,
   "id": "8403e715",
   "metadata": {},
   "outputs": [],
   "source": [
    "for i in cat_cols:\n",
    "    df[i] = lb.fit_transform(df[i])"
   ]
  },
  {
   "cell_type": "code",
   "execution_count": null,
   "id": "dfddaadd",
   "metadata": {},
   "outputs": [],
   "source": [
    "# Get Dummies - OneHotEncoding"
   ]
  },
  {
   "cell_type": "code",
   "execution_count": null,
   "id": "13b289ef",
   "metadata": {},
   "outputs": [],
   "source": [
    "df.Column_name = df.Column_name.replace({'Column_values1':'1', 'Column_values2':'2'})"
   ]
  },
  {
   "cell_type": "code",
   "execution_count": null,
   "id": "06c40b8f",
   "metadata": {},
   "outputs": [],
   "source": [
    "df = pd.get_dummies(df, columns = ['Column_name'],prefix = 'Column_c')"
   ]
  },
  {
   "cell_type": "code",
   "execution_count": null,
   "id": "17fb1d86",
   "metadata": {},
   "outputs": [],
   "source": [
    "from sklearn.preprocessing import OneHotEncoder"
   ]
  },
  {
   "cell_type": "code",
   "execution_count": null,
   "id": "4112d37a",
   "metadata": {},
   "outputs": [],
   "source": [
    "ohe = OneHotEncoder()\n",
    "res_ohe = ohe.fit_transform(df[['Column_Name']]).toarray()\n",
    "res_ohe_df = pd.DataFrame(res_ohe,columns=['Column_values1','Column_values2'])\n",
    "res_ohe_df.head()"
   ]
  },
  {
   "cell_type": "code",
   "execution_count": null,
   "id": "67a38f73",
   "metadata": {},
   "outputs": [],
   "source": [
    "# Standardise data"
   ]
  },
  {
   "cell_type": "code",
   "execution_count": null,
   "id": "dab109cb",
   "metadata": {},
   "outputs": [],
   "source": [
    "from sklearn.preprocessing import MinMaxScaler\n",
    "scaler = MinMaxScaler()\n",
    "scaler.fit(data_selected)\n",
    "data_standardised = scaler.fit_transform(data_selected)"
   ]
  },
  {
   "cell_type": "code",
   "execution_count": null,
   "id": "ec423eea",
   "metadata": {},
   "outputs": [],
   "source": [
    "# Model building"
   ]
  },
  {
   "cell_type": "code",
   "execution_count": null,
   "id": "e76acd4e",
   "metadata": {},
   "outputs": [],
   "source": [
    "# Creating Function to evalute the model performance"
   ]
  },
  {
   "cell_type": "code",
   "execution_count": null,
   "id": "1d20b4ec",
   "metadata": {},
   "outputs": [],
   "source": [
    "def eval_model(model,x_train,x_test,y_train,y_test):\n",
    "    global train_score, test_score, precision, recall, acc, kappa, f1\n",
    "\n",
    "    model.fit(x_train,y_train)\n",
    "    train_score = model.score(x_train,y_train)\n",
    "    test_score = model.score(x_test,y_test)\n",
    "    y_pred = model.predict(x_test)\n",
    "\n",
    "    acc = accuracy_score(y_test,y_pred)\n",
    "    precision = precision_score(y_test, y_pred)\n",
    "    recall = recall_score(y_test, y_pred)\n",
    "    kappa=cohen_kappa_score(y_test, y_pred)\n",
    "    f1 = f1_score(y_test, y_pred)\n",
    "\n",
    "    print('\\nTraining Score is:', round(train_score,4)*100, '%')\n",
    "    print('Testing Score is:', round(test_score,4)*100, '%\\n')\n",
    "\n",
    "    print('Accuracy_Score is', round(acc,4))\n",
    "    print('precision Score is:', round(precision,4))\n",
    "    print('Recall Score is:', round(recall,4))\n",
    "    print('kappa Score is:', round(kappa,4))\n",
    "    print('F1 Score is:', round(f1,4))\n",
    "\n",
    "    cm = confusion_matrix(y_test,y_pred)\n",
    "    print('\\nConfusion Matrix is\\n', cm)\n",
    "\n",
    "    print('\\nPredictions:\\n',y_pred)\n",
    "    print(classification_report(y_test,y_pred))\n",
    "\n",
    "    plt.figure(figsize = (8,5))\n",
    "    sns.heatmap(cm, annot=True, fmt='d', cmap=\"RdBu\", cbar=False)\n",
    "    plt.show()"
   ]
  },
  {
   "cell_type": "code",
   "execution_count": null,
   "id": "b2766c57",
   "metadata": {},
   "outputs": [],
   "source": [
    "def plot_roc_auc(model,y_test,ypred_proba):\n",
    "    global auc\n",
    "    fpr,tpr,thresh = roc_curve(y_test,ypred_proba[:,1])\n",
    "    auc = roc_auc_score(y_test,ypred_proba[:,1])\n",
    "    print('AUC:',auc)\n",
    "    plt.plot(fpr,tpr)\n",
    "    plt.plot([0,1],[0,1],label='TPR=FPR',color='red')\n",
    "    plt.xlabel('FPR',fontsize=15)\n",
    "    plt.ylabel('TPR',fontsize=15)\n",
    "    plt.title('ROC Curve',fontsize=16)\n",
    "    plt.legend()\n",
    "    plt.show()\n",
    "    return fpr,tpr,thresh"
   ]
  },
  {
   "cell_type": "code",
   "execution_count": null,
   "id": "63d2b67c",
   "metadata": {},
   "outputs": [],
   "source": [
    "score_card = pd.DataFrame(columns=['Model', 'Train Score', 'Test Score', 'AUC Score' , 'Precision Score', \n",
    "                                   'Recall Score', 'Accuracy Score', \n",
    "                                   'Kappa Score', 'f1-score'])\n",
    "\n",
    "def update_score_card(model_name):\n",
    "    global score_card\n",
    "    score_card = score_card.append({'Model': model_name, 'Train Score': train_score, \n",
    "                                    'Test Score': test_score,\n",
    "                                     'AUC Score' : auc,\n",
    "                                    'Precision Score': precision, \n",
    "                                    'Recall Score': recall, 'Accuracy Score': acc, \n",
    "                                    'Kappa Score': kappa, 'f1-score': f1}, ignore_index = True)\n",
    "    return(score_card)"
   ]
  },
  {
   "cell_type": "code",
   "execution_count": null,
   "id": "fd8644c8",
   "metadata": {},
   "outputs": [],
   "source": [
    "#Select the Dependent and Independent Features\n",
    "x = df.drop('Dependent_column',axis=1)\n",
    "y = df['Dependent_column']\n",
    "print(type(x),type(y))\n",
    "print(x.shape,y.shape)"
   ]
  },
  {
   "cell_type": "code",
   "execution_count": null,
   "id": "20a78b50",
   "metadata": {},
   "outputs": [],
   "source": [
    "#Split the data into train and test set\n",
    "x_train,x_test,y_train,y_test = train_test_split(x,y,test_size=0.30,random_state=1000)\n",
    "print(x_train.shape)\n",
    "print(x_test.shape)\n",
    "print(y_train.shape)\n",
    "print(y_test.shape)"
   ]
  },
  {
   "cell_type": "code",
   "execution_count": null,
   "id": "02673213",
   "metadata": {},
   "outputs": [],
   "source": [
    "# Logistic Regression"
   ]
  },
  {
   "cell_type": "code",
   "execution_count": null,
   "id": "f891a531",
   "metadata": {},
   "outputs": [],
   "source": [
    "lr = LogisticRegression(max_iter=10000)\n",
    "eval_model(lr,x_train,x_test,y_train,y_test)"
   ]
  },
  {
   "cell_type": "code",
   "execution_count": null,
   "id": "f84aa8cf",
   "metadata": {},
   "outputs": [],
   "source": [
    "### ROC_AUC Curve"
   ]
  },
  {
   "cell_type": "code",
   "execution_count": null,
   "id": "773e95c0",
   "metadata": {},
   "outputs": [],
   "source": [
    "ypred_proba_lr = lr.predict_proba(x_test)\n",
    "fpr_lr1,tpr_lr1,thresh_lr1 = plot_roc_auc(lr,y_test,ypred_proba_lr)"
   ]
  },
  {
   "cell_type": "code",
   "execution_count": null,
   "id": "32cbf3a1",
   "metadata": {},
   "outputs": [],
   "source": [
    "#### Creating tabulated data for evaluation matrix"
   ]
  },
  {
   "cell_type": "code",
   "execution_count": null,
   "id": "e4e07116",
   "metadata": {},
   "outputs": [],
   "source": [
    "update_score_card(model_name = 'Logistic Regression')"
   ]
  },
  {
   "cell_type": "code",
   "execution_count": null,
   "id": "252aff3a",
   "metadata": {},
   "outputs": [],
   "source": [
    "#### Logistic Regression (using SGD)"
   ]
  },
  {
   "cell_type": "code",
   "execution_count": null,
   "id": "62bf87fb",
   "metadata": {},
   "outputs": [],
   "source": [
    "lr_SGD = SGDClassifier(loss = 'log', random_state = 10)\n",
    "eval_model(lr_SGD,x_train,x_test,y_train,y_test)"
   ]
  },
  {
   "cell_type": "code",
   "execution_count": null,
   "id": "41bc22fa",
   "metadata": {},
   "outputs": [],
   "source": [
    "ypred_proba_lr_SGD = lr.predict_proba(x_test)\n",
    "fpr_lr2,tpr_lr2,thresh_lr2 = plot_roc_auc(lr_SGD,y_test,ypred_proba_lr_SGD)"
   ]
  },
  {
   "cell_type": "code",
   "execution_count": null,
   "id": "0beca363",
   "metadata": {},
   "outputs": [],
   "source": [
    "update_score_card(model_name = 'Logistic Regression using SGD')"
   ]
  },
  {
   "cell_type": "code",
   "execution_count": null,
   "id": "4d08480f",
   "metadata": {},
   "outputs": [],
   "source": [
    "# Decision Tree Classifier"
   ]
  },
  {
   "cell_type": "code",
   "execution_count": null,
   "id": "f73e4657",
   "metadata": {},
   "outputs": [],
   "source": [
    "dt1 = DecisionTreeClassifier(criterion='gini')\n",
    "eval_model(dt1,x_train,x_test,y_train,y_test)"
   ]
  },
  {
   "cell_type": "code",
   "execution_count": null,
   "id": "650e8477",
   "metadata": {},
   "outputs": [],
   "source": [
    "ypred_proba_dt1 = dt1.predict_proba(x_test)"
   ]
  },
  {
   "cell_type": "code",
   "execution_count": null,
   "id": "59555798",
   "metadata": {},
   "outputs": [],
   "source": [
    "fpr_dt1,tpr_dt1,thresh_dt1 = plot_roc_auc(dt1,y_test,ypred_proba_dt1)"
   ]
  },
  {
   "cell_type": "code",
   "execution_count": null,
   "id": "f709d3c6",
   "metadata": {},
   "outputs": [],
   "source": [
    "update_score_card(model_name = 'Decision Tree Classifier')"
   ]
  },
  {
   "cell_type": "code",
   "execution_count": null,
   "id": "6ecafcb9",
   "metadata": {},
   "outputs": [],
   "source": [
    "# Decision Tree with Pruning"
   ]
  },
  {
   "cell_type": "code",
   "execution_count": null,
   "id": "37e42ca4",
   "metadata": {},
   "outputs": [],
   "source": [
    "# Hyperparameter Tuning Techniques\n",
    "\n",
    "# GridSearchCV\n",
    "# 1) Searches for all possible permutations and combination of hyperparameters and then generates the best hyperparameters.\n",
    "# 2) High time complexity\n",
    "\n",
    "# RandomizedSarchCV\n",
    "# 1) Searches for some random combinations of hyperparameters and then generates the best parameters from amongst the randomly chosen combinations.\n",
    "# 2) Low time complexity\n"
   ]
  },
  {
   "cell_type": "code",
   "execution_count": null,
   "id": "b2f0ba10",
   "metadata": {},
   "outputs": [],
   "source": [
    "tuned_paramaters = [ {'criterion':['gini','entropy'],'max_depth':[8,9,10,11,12,14],\n",
    "'min_samples_split':[8,10,12,14,15,16,20]}]\n",
    "\n",
    "dt_CV= DecisionTreeClassifier(random_state = 10)\n",
    "\n",
    "grid = GridSearchCV(estimator = dt_CV, param_grid = tuned_paramaters, cv = 10)\n",
    "\n",
    "dt_grid = grid.fit(x_train, y_train)\n",
    "\n",
    "print('Best parameters for Decision Tree Classifier: ', dt_grid.best_params_, '\\n')"
   ]
  },
  {
   "cell_type": "code",
   "execution_count": null,
   "id": "d06d047c",
   "metadata": {},
   "outputs": [],
   "source": [
    "dt2 = DecisionTreeClassifier(criterion='entropy/gini',max_depth=, min_samples_split=) # Enter values from best_params\n",
    "eval_model(dt2,x_train,x_test,y_train,y_test)"
   ]
  },
  {
   "cell_type": "code",
   "execution_count": null,
   "id": "5ede9c32",
   "metadata": {},
   "outputs": [],
   "source": [
    "ypred_proba_dt2 = dt2.predict_proba(x_test)"
   ]
  },
  {
   "cell_type": "code",
   "execution_count": null,
   "id": "74891199",
   "metadata": {},
   "outputs": [],
   "source": [
    "fpr_dt2,tpr_dt2,thresh_dt2 = plot_roc_auc(dt2,y_test,ypred_proba_dt2)"
   ]
  },
  {
   "cell_type": "code",
   "execution_count": null,
   "id": "070df907",
   "metadata": {},
   "outputs": [],
   "source": [
    "update_score_card(model_name = 'Decision Tree with Pruning')"
   ]
  },
  {
   "cell_type": "code",
   "execution_count": null,
   "id": "4142dd84",
   "metadata": {},
   "outputs": [],
   "source": [
    "# Ensemble Learning"
   ]
  },
  {
   "cell_type": "code",
   "execution_count": null,
   "id": "b16405c8",
   "metadata": {},
   "outputs": [],
   "source": [
    "# Bagging Classifier"
   ]
  },
  {
   "cell_type": "code",
   "execution_count": null,
   "id": "b105db3f",
   "metadata": {},
   "outputs": [],
   "source": [
    "bag = BaggingClassifier(tree.DecisionTreeClassifier(random_state=10))\n",
    "eval_model(bag,x_train,x_test,y_train,y_test)"
   ]
  },
  {
   "cell_type": "code",
   "execution_count": null,
   "id": "adb50110",
   "metadata": {},
   "outputs": [],
   "source": [
    "ypred_proba_bag = bag.predict_proba(x_test)"
   ]
  },
  {
   "cell_type": "code",
   "execution_count": null,
   "id": "99733eba",
   "metadata": {},
   "outputs": [],
   "source": [
    "fpr_bag,tpr_bag,thresh_bag = plot_roc_auc(bag,y_test,ypred_proba_bag)"
   ]
  },
  {
   "cell_type": "code",
   "execution_count": null,
   "id": "a52bdc58",
   "metadata": {},
   "outputs": [],
   "source": [
    "update_score_card(model_name = 'Bagging Ensemble')"
   ]
  },
  {
   "cell_type": "code",
   "execution_count": null,
   "id": "ba421ebe",
   "metadata": {},
   "outputs": [],
   "source": [
    "# AdaBoost Classifier"
   ]
  },
  {
   "cell_type": "code",
   "execution_count": null,
   "id": "66ba996c",
   "metadata": {},
   "outputs": [],
   "source": [
    "adaboost = AdaBoostClassifier(tree.DecisionTreeClassifier(random_state=10))\n",
    "eval_model(adaboost,x_train,x_test,y_train,y_test)"
   ]
  },
  {
   "cell_type": "code",
   "execution_count": null,
   "id": "25e2347c",
   "metadata": {},
   "outputs": [],
   "source": [
    "ypred_proba_adaboost = adaboost.predict_proba(x_test)"
   ]
  },
  {
   "cell_type": "code",
   "execution_count": null,
   "id": "b74e19b4",
   "metadata": {},
   "outputs": [],
   "source": [
    "fpr_adaboost,tpr_adaboost,thresh_adaboost = plot_roc_auc(adaboost,y_test,ypred_proba_adaboost)"
   ]
  },
  {
   "cell_type": "code",
   "execution_count": null,
   "id": "a2b52623",
   "metadata": {},
   "outputs": [],
   "source": [
    "update_score_card(model_name = 'Adaboost Ensemble')"
   ]
  },
  {
   "cell_type": "code",
   "execution_count": null,
   "id": "5d88695f",
   "metadata": {},
   "outputs": [],
   "source": [
    "# XGBoost Classifier"
   ]
  },
  {
   "cell_type": "code",
   "execution_count": null,
   "id": "6048cafb",
   "metadata": {},
   "outputs": [],
   "source": [
    "xgbm = XGBClassifier(random_state=1,learning_rate=0.01)\n",
    "eval_model(xgbm,x_train,x_test,y_train,y_test)"
   ]
  },
  {
   "cell_type": "code",
   "execution_count": null,
   "id": "3e85beb5",
   "metadata": {},
   "outputs": [],
   "source": [
    "ypred_proba_xgbm = xgbm.predict_proba(x_test)"
   ]
  },
  {
   "cell_type": "code",
   "execution_count": null,
   "id": "1d19df76",
   "metadata": {},
   "outputs": [],
   "source": [
    "fpr_xgbm,tpr_xgbm,thresh_xgbm = plot_roc_auc(xgbm,y_test,ypred_proba_xgbm)"
   ]
  },
  {
   "cell_type": "code",
   "execution_count": null,
   "id": "65556498",
   "metadata": {},
   "outputs": [],
   "source": [
    "update_score_card(model_name = 'XG Boost Ensemble')"
   ]
  },
  {
   "cell_type": "code",
   "execution_count": null,
   "id": "a9f9748e",
   "metadata": {},
   "outputs": [],
   "source": [
    "# Random Forest Classifier"
   ]
  },
  {
   "cell_type": "code",
   "execution_count": null,
   "id": "13354644",
   "metadata": {},
   "outputs": [],
   "source": [
    "rf = RandomForestClassifier(n_estimators=100, random_state=10)\n",
    "eval_model(rf,x_train,x_test,y_train,y_test)"
   ]
  },
  {
   "cell_type": "code",
   "execution_count": null,
   "id": "d4a9db00",
   "metadata": {},
   "outputs": [],
   "source": [
    "ypred_proba_rf = rf.predict_proba(x_test)"
   ]
  },
  {
   "cell_type": "code",
   "execution_count": null,
   "id": "3b423e00",
   "metadata": {},
   "outputs": [],
   "source": [
    "fpr_rf,tpr_rf,thresh_rf = plot_roc_auc(rf,y_test,ypred_proba_rf)"
   ]
  },
  {
   "cell_type": "code",
   "execution_count": null,
   "id": "9742aa20",
   "metadata": {},
   "outputs": [],
   "source": [
    "update_score_card(model_name = 'Random Forest')"
   ]
  },
  {
   "cell_type": "code",
   "execution_count": null,
   "id": "8ea3b5c0",
   "metadata": {},
   "outputs": [],
   "source": [
    "# Random Forest with GridSearchCV"
   ]
  },
  {
   "cell_type": "code",
   "execution_count": null,
   "id": "58c4b52f",
   "metadata": {},
   "outputs": [],
   "source": [
    "tuned_paramaters = [{'n_estimators': [ 85, 100],\n",
    "                     'min_samples_split': [15,20], \n",
    "                     'max_depth': [8, 10], \n",
    "                     'min_samples_leaf': [5,10], \n",
    "                     'max_leaf_nodes': [10, 15] }]\n",
    "\n",
    "rf_CV= RandomForestClassifier(random_state = 10)\n",
    "\n",
    "grid = GridSearchCV(estimator = rf_CV, param_grid = tuned_paramaters, cv = 10)\n",
    "\n",
    "rf_grid = grid.fit(x_train, y_train)\n",
    "\n",
    "print('Best parameters for random forest Classifier: ', rf_grid.best_params_, '\\n')"
   ]
  },
  {
   "cell_type": "code",
   "execution_count": null,
   "id": "1e6991ff",
   "metadata": {},
   "outputs": [],
   "source": [
    "rf2 = RandomForestClassifier(max_depth=N, \n",
    "                            max_leaf_nodes=N, \n",
    "                            min_samples_leaf=N,\n",
    "                            min_samples_split=N,\n",
    "                            n_estimators=N)\n",
    "eval_model(rf2,x_train,x_test,y_train,y_test)"
   ]
  },
  {
   "cell_type": "code",
   "execution_count": null,
   "id": "1a1985dc",
   "metadata": {},
   "outputs": [],
   "source": [
    "ypred_proba_rf2 = rf2.predict_proba(x_test)"
   ]
  },
  {
   "cell_type": "code",
   "execution_count": null,
   "id": "4055b55e",
   "metadata": {},
   "outputs": [],
   "source": [
    "fpr_rf2,tpr_rf2,thresh_rf2 = plot_roc_auc(rf2,y_test,ypred_proba_rf2)\n"
   ]
  },
  {
   "cell_type": "code",
   "execution_count": null,
   "id": "eeb1792d",
   "metadata": {},
   "outputs": [],
   "source": [
    "update_score_card(model_name = 'Random Forest with Pruning')"
   ]
  },
  {
   "cell_type": "code",
   "execution_count": null,
   "id": "5c8b3e28",
   "metadata": {},
   "outputs": [],
   "source": [
    "# Naive Bayes Classifier"
   ]
  },
  {
   "cell_type": "code",
   "execution_count": null,
   "id": "42ca4c5f",
   "metadata": {},
   "outputs": [],
   "source": [
    "gnb = GaussianNB()\n",
    "eval_model(gnb,x_train,x_test,y_train,y_test)"
   ]
  },
  {
   "cell_type": "code",
   "execution_count": null,
   "id": "fc10ce94",
   "metadata": {},
   "outputs": [],
   "source": [
    "ypred_proba_gnb = gnb.predict_proba(x_test)\n",
    "\n",
    "fpr_gnb,tpr_gnb,thresh_gnb = plot_roc_auc(gnb,y_test,ypred_proba_gnb)"
   ]
  },
  {
   "cell_type": "code",
   "execution_count": null,
   "id": "22991d5c",
   "metadata": {},
   "outputs": [],
   "source": [
    "update_score_card(model_name = 'Naive Bayes Classifier')"
   ]
  },
  {
   "cell_type": "code",
   "execution_count": null,
   "id": "6d311379",
   "metadata": {},
   "outputs": [],
   "source": [
    "# KNN Classifier"
   ]
  },
  {
   "cell_type": "code",
   "execution_count": null,
   "id": "e33c1bf2",
   "metadata": {},
   "outputs": [],
   "source": [
    "knn1 = KNeighborsClassifier(n_neighbors=9)\n",
    "eval_model(knn1,x_train,x_test,y_train,y_test)"
   ]
  },
  {
   "cell_type": "code",
   "execution_count": null,
   "id": "0a6f8338",
   "metadata": {},
   "outputs": [],
   "source": [
    "ypred_proba_knn1 = knn1.predict_proba(x_test)\n",
    "\n",
    "fpr_knn1,tpr_knn1,thresh_knn1 = plot_roc_auc(knn1,y_test,ypred_proba_knn1)"
   ]
  },
  {
   "cell_type": "code",
   "execution_count": null,
   "id": "29b0400e",
   "metadata": {},
   "outputs": [],
   "source": [
    "update_score_card(model_name = 'KNN')"
   ]
  },
  {
   "cell_type": "code",
   "execution_count": null,
   "id": "0fe644f3",
   "metadata": {},
   "outputs": [],
   "source": [
    "# To find optimal number of neighbors for KNN"
   ]
  },
  {
   "cell_type": "code",
   "execution_count": null,
   "id": "e8d26132",
   "metadata": {},
   "outputs": [],
   "source": [
    "neighbors = list(range(3,51,2))\n",
    "knn_acc = []\n",
    "for i in neighbors:\n",
    "    m = KNeighborsClassifier(n_neighbors=i)\n",
    "    m.fit(x_train,y_train)\n",
    "    ypred = m.predict(x_test)\n",
    "    knn_acc.append(accuracy_score(y_test,ypred))"
   ]
  },
  {
   "cell_type": "code",
   "execution_count": null,
   "id": "77c8df88",
   "metadata": {},
   "outputs": [],
   "source": [
    "plt.plot(neighbors,knn_acc,color='maroon',label='Test Acc',marker='o')\n",
    "plt.title('Test Accuracy vs No of Neighbors - KNN')\n",
    "plt.xlabel('No of Neighbors')\n",
    "plt.ylabel('Test Accuracy')\n",
    "plt.xticks(neighbors)\n",
    "plt.legend()\n",
    "plt.grid()\n",
    "plt.show()"
   ]
  },
  {
   "cell_type": "code",
   "execution_count": null,
   "id": "2e0e6e97",
   "metadata": {},
   "outputs": [],
   "source": [
    "knn2 = KNeighborsClassifier(n_neighbors=N)\n",
    "eval_model(knn2,x_train,x_test,y_train,y_test)"
   ]
  },
  {
   "cell_type": "code",
   "execution_count": null,
   "id": "a2e9e28e",
   "metadata": {},
   "outputs": [],
   "source": [
    "ypred_proba_knn2 = knn2.predict_proba(x_test)\n",
    "\n",
    "fpr_knn2,tpr_knn2,thresh_knn2 = plot_roc_auc(knn2,y_test,ypred_proba_knn2)"
   ]
  },
  {
   "cell_type": "code",
   "execution_count": null,
   "id": "286cb6a0",
   "metadata": {},
   "outputs": [],
   "source": [
    "update_score_card(model_name = 'KNN with tuned parameters')"
   ]
  },
  {
   "cell_type": "code",
   "execution_count": null,
   "id": "818608c7",
   "metadata": {},
   "outputs": [],
   "source": [
    "# Support Vector Classifier"
   ]
  },
  {
   "cell_type": "code",
   "execution_count": null,
   "id": "04467ef3",
   "metadata": {},
   "outputs": [],
   "source": [
    "# SVM using linear kernel"
   ]
  },
  {
   "cell_type": "code",
   "execution_count": null,
   "id": "85c70292",
   "metadata": {},
   "outputs": [],
   "source": [
    "sv1= SVC(kernel='linear')\n",
    "eval_model(sv1,x_train,x_test,y_train,y_test)"
   ]
  },
  {
   "cell_type": "code",
   "execution_count": null,
   "id": "57e2bc9a",
   "metadata": {},
   "outputs": [],
   "source": [
    "update_score_card(model_name = 'Support Vector using Linear kernel')"
   ]
  },
  {
   "cell_type": "code",
   "execution_count": null,
   "id": "1fb661e4",
   "metadata": {},
   "outputs": [],
   "source": [
    "# SVM using Gaussian kernel"
   ]
  },
  {
   "cell_type": "code",
   "execution_count": null,
   "id": "8a41610d",
   "metadata": {},
   "outputs": [],
   "source": [
    "sv_gaussian= SVC(kernel='rbf')\n",
    "eval_model(sv_gaussian,x_train,x_test,y_train,y_test)"
   ]
  },
  {
   "cell_type": "code",
   "execution_count": null,
   "id": "47460b86",
   "metadata": {},
   "outputs": [],
   "source": [
    "update_score_card(model_name = 'Support Vector using Gaussian kernel')"
   ]
  },
  {
   "cell_type": "code",
   "execution_count": null,
   "id": "e9b68f80",
   "metadata": {},
   "outputs": [],
   "source": [
    "# SVM using Sigmoid kernel"
   ]
  },
  {
   "cell_type": "code",
   "execution_count": null,
   "id": "f171c46e",
   "metadata": {},
   "outputs": [],
   "source": [
    "sv_sigmoid= SVC(kernel='sigmoid')\n",
    "eval_model(sv_sigmoid,x_train,x_test,y_train,y_test)"
   ]
  },
  {
   "cell_type": "code",
   "execution_count": null,
   "id": "953de23a",
   "metadata": {},
   "outputs": [],
   "source": [
    "update_score_card(model_name = 'Support Vector using Sigmoid kernel')"
   ]
  },
  {
   "cell_type": "code",
   "execution_count": null,
   "id": "79e467ba",
   "metadata": {},
   "outputs": [],
   "source": [
    "# SVM using Polynomial kernel"
   ]
  },
  {
   "cell_type": "code",
   "execution_count": null,
   "id": "f0d256e1",
   "metadata": {},
   "outputs": [],
   "source": [
    "sv_poly= SVC(kernel='poly')\n",
    "eval_model(sv_poly,x_train,x_test,y_train,y_test)"
   ]
  },
  {
   "cell_type": "code",
   "execution_count": null,
   "id": "05031955",
   "metadata": {},
   "outputs": [],
   "source": [
    "update_score_card(model_name = 'Support Vector using Polynomial kernel')"
   ]
  },
  {
   "cell_type": "code",
   "execution_count": null,
   "id": "518244e3",
   "metadata": {},
   "outputs": [],
   "source": [
    "# SVM using GridSearchCV"
   ]
  },
  {
   "cell_type": "code",
   "execution_count": null,
   "id": "65ff3228",
   "metadata": {},
   "outputs": [],
   "source": [
    "tuned_paramaters = [{ 'degree': [2, 4], 'gamma' : ['auto','scale' ], 'C': [0.5, 1] }]\n",
    "\n",
    "svm_CV= SVC(random_state = 10)\n",
    "\n",
    "grid = GridSearchCV(estimator=svm_CV , param_grid=tuned_paramaters, scoring='accuracy', cv= 5)\n",
    "\n",
    "svm_grid = grid.fit(x_train, y_train)\n",
    "\n",
    "print('Best parameters for Decision Tree Classifier: ', svm_grid.best_params_, '\\n')"
   ]
  },
  {
   "cell_type": "code",
   "execution_count": null,
   "id": "607b084f",
   "metadata": {},
   "outputs": [],
   "source": [
    "sv_poly_cv= SVC(kernel='poly', C=N, degree=N, gamma='scale/auto')\n",
    "eval_model(sv_poly_cv,x_train,x_test,y_train,y_test)"
   ]
  },
  {
   "cell_type": "code",
   "execution_count": null,
   "id": "3e8cab83",
   "metadata": {},
   "outputs": [],
   "source": [
    "update_score_card(model_name = 'Support Vector Polynomial with Grid search CV')"
   ]
  },
  {
   "cell_type": "code",
   "execution_count": null,
   "id": "66c1e206",
   "metadata": {},
   "outputs": [],
   "source": [
    "# Model Comparision"
   ]
  },
  {
   "cell_type": "code",
   "execution_count": null,
   "id": "1b5105c0",
   "metadata": {},
   "outputs": [],
   "source": [
    "score_card"
   ]
  },
  {
   "cell_type": "code",
   "execution_count": null,
   "id": "c108bb3f",
   "metadata": {},
   "outputs": [],
   "source": [
    "score_card['Test Score'].idxmax()"
   ]
  },
  {
   "cell_type": "code",
   "execution_count": null,
   "id": "004652b7",
   "metadata": {},
   "outputs": [],
   "source": [
    "print (score_card['Model'][score_card['Test Score'].idxmax()], \"is the best performing model\")"
   ]
  },
  {
   "cell_type": "code",
   "execution_count": null,
   "id": "72528600",
   "metadata": {},
   "outputs": [],
   "source": [
    "# #END"
   ]
  },
  {
   "cell_type": "code",
   "execution_count": null,
   "id": "da77992c",
   "metadata": {},
   "outputs": [],
   "source": []
  }
 ],
 "metadata": {
  "kernelspec": {
   "display_name": "Python 3 (ipykernel)",
   "language": "python",
   "name": "python3"
  },
  "language_info": {
   "codemirror_mode": {
    "name": "ipython",
    "version": 3
   },
   "file_extension": ".py",
   "mimetype": "text/x-python",
   "name": "python",
   "nbconvert_exporter": "python",
   "pygments_lexer": "ipython3",
   "version": "3.9.13"
  }
 },
 "nbformat": 4,
 "nbformat_minor": 5
}
